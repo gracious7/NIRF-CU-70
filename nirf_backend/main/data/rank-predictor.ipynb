{
 "cells": [
  {
   "cell_type": "code",
   "execution_count": 1,
   "metadata": {},
   "outputs": [],
   "source": [
    "import pandas as pd"
   ]
  },
  {
   "cell_type": "markdown",
   "metadata": {},
   "source": [
    "## Filtering excel sheet"
   ]
  },
  {
   "cell_type": "code",
   "execution_count": null,
   "metadata": {},
   "outputs": [],
   "source": [
    "df = pd.read_excel('./Gringotts.xlsx')\n",
    "excel_file = pd.ExcelFile('./Gringotts.xlsx')\n",
    "\n",
    "df['Numbers'] = df['College'].str.extract(r'(\\d+\\.\\d+\\s\\d+\\.\\d+\\s\\d+\\.\\d+\\s\\d+\\.\\d+\\s\\d+\\.\\d+)$')\n",
    "df[['TLR', 'RPC', 'GO', 'OI', 'PR']] = df['Numbers'].str.split().apply(pd.Series)\n",
    "df.drop(columns=['Numbers'], inplace=True)"
   ]
  },
  {
   "cell_type": "code",
   "execution_count": 29,
   "metadata": {},
   "outputs": [],
   "source": [
    "import re\n",
    "def extract_and_calculate_numbers(text):\n",
    "  # numbers = re.findall(r'\\d+\\.\\d+', text)\n",
    "  numbers = re.findall(r'\\d+(?:\\.\\d+)?', text)\n",
    "  numbers = numbers[5:]\n",
    "  if len(numbers) >= 5:\n",
    "      tlr = float(numbers[0])\n",
    "      rpc = float(numbers[1])\n",
    "      go = float(numbers[2])\n",
    "      oi = float(numbers[3])\n",
    "      pr = float(numbers[4])\n",
    "  else:\n",
    "      tlr, rpc, go, oi, pr = None, None, None, None, None\n",
    "  \n",
    "  return pd.Series({'TLR': tlr, 'RPC': rpc, 'GO': go, 'OI': oi, 'PR': pr})\n",
    "\n",
    "\n",
    "excel_file = pd.ExcelFile('./Gringotts.xlsx')\n",
    "df = pd.read_excel(excel_file, sheet_name=\"2016\")\n",
    "df[['TLR', 'RPC', 'GO', 'OI', 'PR']] = df['Name'].apply(extract_and_calculate_numbers)\n",
    "df\n",
    "\n",
    "# df['Numbers'] = df['Name'].str.extract(r'(\\d+\\.\\d+\\s\\d+\\.\\d+\\s\\d+\\.\\d+\\s\\d+\\.\\d+\\s\\d+\\.\\d+)$')\n",
    "# df[['TLR', 'RPC', 'GO', 'OI', 'PR']] = df['Numbers'].str.split().apply(pd.Series)\n",
    "# df.drop(columns=['Numbers'], inplace=True)\n",
    "df.to_excel('nirf/2016.xlsx', index=False)"
   ]
  },
  {
   "cell_type": "code",
   "execution_count": 2,
   "metadata": {},
   "outputs": [],
   "source": [
    "df = pd.read_excel('./nirf/2021.xlsx')\n",
    "df['Name'] = df['Name'].str.split('Close', expand=True)[0]\n",
    "df.to_excel('nirf/2021.xlsx')"
   ]
  },
  {
   "cell_type": "markdown",
   "metadata": {},
   "source": [
    "## Adding dummy data"
   ]
  },
  {
   "cell_type": "code",
   "execution_count": 2,
   "metadata": {},
   "outputs": [],
   "source": [
    "subtopic_weights = {\n",
    "    \"TLR\": {\"SS\": 20, \"FSR\": 30, \"FQE\": 20, \"FRU\": 30},\n",
    "    \"RPC\": {\"PU\": 35, \"QP\": 40, \"IPR\": 15, \"FPPP\": 10},\n",
    "    \"GO\": {\"GPH\": 40, \"GUE\": 15, \"GMS\": 25, \"GPHD\": 20},\n",
    "    \"OI\": {\"RD\": 30, \"WD\": 30, \"ESCS\": 20, \"PCS\": 20},\n",
    "}"
   ]
  },
  {
   "cell_type": "code",
   "execution_count": 31,
   "metadata": {},
   "outputs": [],
   "source": [
    "df = pd.read_excel('./nirf/xl/2021.xlsx')\n",
    "def add_dummy_data(df, property_name):\n",
    "    subtopics = list(subtopic_weights[property_name].keys())\n",
    "    total_value = df[property_name].values[0]\n",
    "\n",
    "    for subtopic in subtopics:\n",
    "        percentage = subtopic_weights[property_name][subtopic]\n",
    "        dummy_value = (percentage / 100) * total_value\n",
    "        df[subtopic] = dummy_value\n",
    "\n",
    "for property in subtopic_weights.keys():\n",
    "    add_dummy_data(df, property)\n",
    "\n",
    "df.to_csv('nirf/2021.csv')"
   ]
  },
  {
   "cell_type": "code",
   "execution_count": 39,
   "metadata": {},
   "outputs": [
    {
     "data": {
      "text/plain": [
       "False"
      ]
     },
     "execution_count": 39,
     "metadata": {},
     "output_type": "execute_result"
    }
   ],
   "source": [
    "df = pd.read_csv('./nirf/2023.csv')\n",
    "df.isna().any().any()"
   ]
  },
  {
   "cell_type": "markdown",
   "metadata": {},
   "source": [
    "## Rank prediction"
   ]
  },
  {
   "cell_type": "code",
   "execution_count": 2,
   "metadata": {},
   "outputs": [],
   "source": [
    "import numpy as np\n",
    "from sklearn.linear_model import LinearRegression\n",
    "from sklearn.ensemble import RandomForestRegressor\n",
    "from sklearn.metrics import mean_squared_error, r2_score\n",
    "from sklearn.model_selection import train_test_split"
   ]
  },
  {
   "cell_type": "code",
   "execution_count": 3,
   "metadata": {},
   "outputs": [],
   "source": [
    "weightage = {\n",
    "  'TLR': 0.30, \n",
    "  'RPC': 0.30, \n",
    "  'GO': 0.20, \n",
    "  'OI': 0.10, \n",
    "  'PR': 0.10\n",
    "}"
   ]
  },
  {
   "cell_type": "code",
   "execution_count": 5,
   "metadata": {},
   "outputs": [],
   "source": [
    "df = pd.read_csv('./nirf/2022.csv')\n",
    "# df = pd.read_csv(\"C:/Users/piyus/Downloads/archive/engineering.csv\")\n",
    "\n",
    "df['Weighted_Score'] = (\n",
    "  df['TLR'] * weightage['TLR'] +\n",
    "  df['RPC'] * weightage['RPC'] +\n",
    "  df['GO'] * weightage['GO'] +\n",
    "  df['OI'] * weightage['OI'] +\n",
    "  df['PR'] * weightage['PR']\n",
    ")"
   ]
  },
  {
   "cell_type": "code",
   "execution_count": 6,
   "metadata": {},
   "outputs": [],
   "source": [
    "X = df[['Weighted_Score']]\n",
    "y = df['Rank']"
   ]
  },
  {
   "cell_type": "code",
   "execution_count": 7,
   "metadata": {},
   "outputs": [
    {
     "data": {
      "text/html": [
       "<style>#sk-container-id-1 {color: black;}#sk-container-id-1 pre{padding: 0;}#sk-container-id-1 div.sk-toggleable {background-color: white;}#sk-container-id-1 label.sk-toggleable__label {cursor: pointer;display: block;width: 100%;margin-bottom: 0;padding: 0.3em;box-sizing: border-box;text-align: center;}#sk-container-id-1 label.sk-toggleable__label-arrow:before {content: \"▸\";float: left;margin-right: 0.25em;color: #696969;}#sk-container-id-1 label.sk-toggleable__label-arrow:hover:before {color: black;}#sk-container-id-1 div.sk-estimator:hover label.sk-toggleable__label-arrow:before {color: black;}#sk-container-id-1 div.sk-toggleable__content {max-height: 0;max-width: 0;overflow: hidden;text-align: left;background-color: #f0f8ff;}#sk-container-id-1 div.sk-toggleable__content pre {margin: 0.2em;color: black;border-radius: 0.25em;background-color: #f0f8ff;}#sk-container-id-1 input.sk-toggleable__control:checked~div.sk-toggleable__content {max-height: 200px;max-width: 100%;overflow: auto;}#sk-container-id-1 input.sk-toggleable__control:checked~label.sk-toggleable__label-arrow:before {content: \"▾\";}#sk-container-id-1 div.sk-estimator input.sk-toggleable__control:checked~label.sk-toggleable__label {background-color: #d4ebff;}#sk-container-id-1 div.sk-label input.sk-toggleable__control:checked~label.sk-toggleable__label {background-color: #d4ebff;}#sk-container-id-1 input.sk-hidden--visually {border: 0;clip: rect(1px 1px 1px 1px);clip: rect(1px, 1px, 1px, 1px);height: 1px;margin: -1px;overflow: hidden;padding: 0;position: absolute;width: 1px;}#sk-container-id-1 div.sk-estimator {font-family: monospace;background-color: #f0f8ff;border: 1px dotted black;border-radius: 0.25em;box-sizing: border-box;margin-bottom: 0.5em;}#sk-container-id-1 div.sk-estimator:hover {background-color: #d4ebff;}#sk-container-id-1 div.sk-parallel-item::after {content: \"\";width: 100%;border-bottom: 1px solid gray;flex-grow: 1;}#sk-container-id-1 div.sk-label:hover label.sk-toggleable__label {background-color: #d4ebff;}#sk-container-id-1 div.sk-serial::before {content: \"\";position: absolute;border-left: 1px solid gray;box-sizing: border-box;top: 0;bottom: 0;left: 50%;z-index: 0;}#sk-container-id-1 div.sk-serial {display: flex;flex-direction: column;align-items: center;background-color: white;padding-right: 0.2em;padding-left: 0.2em;position: relative;}#sk-container-id-1 div.sk-item {position: relative;z-index: 1;}#sk-container-id-1 div.sk-parallel {display: flex;align-items: stretch;justify-content: center;background-color: white;position: relative;}#sk-container-id-1 div.sk-item::before, #sk-container-id-1 div.sk-parallel-item::before {content: \"\";position: absolute;border-left: 1px solid gray;box-sizing: border-box;top: 0;bottom: 0;left: 50%;z-index: -1;}#sk-container-id-1 div.sk-parallel-item {display: flex;flex-direction: column;z-index: 1;position: relative;background-color: white;}#sk-container-id-1 div.sk-parallel-item:first-child::after {align-self: flex-end;width: 50%;}#sk-container-id-1 div.sk-parallel-item:last-child::after {align-self: flex-start;width: 50%;}#sk-container-id-1 div.sk-parallel-item:only-child::after {width: 0;}#sk-container-id-1 div.sk-dashed-wrapped {border: 1px dashed gray;margin: 0 0.4em 0.5em 0.4em;box-sizing: border-box;padding-bottom: 0.4em;background-color: white;}#sk-container-id-1 div.sk-label label {font-family: monospace;font-weight: bold;display: inline-block;line-height: 1.2em;}#sk-container-id-1 div.sk-label-container {text-align: center;}#sk-container-id-1 div.sk-container {/* jupyter's `normalize.less` sets `[hidden] { display: none; }` but bootstrap.min.css set `[hidden] { display: none !important; }` so we also need the `!important` here to be able to override the default hidden behavior on the sphinx rendered scikit-learn.org. See: https://github.com/scikit-learn/scikit-learn/issues/21755 */display: inline-block !important;position: relative;}#sk-container-id-1 div.sk-text-repr-fallback {display: none;}</style><div id=\"sk-container-id-1\" class=\"sk-top-container\"><div class=\"sk-text-repr-fallback\"><pre>RandomForestRegressor(random_state=0)</pre><b>In a Jupyter environment, please rerun this cell to show the HTML representation or trust the notebook. <br />On GitHub, the HTML representation is unable to render, please try loading this page with nbviewer.org.</b></div><div class=\"sk-container\" hidden><div class=\"sk-item\"><div class=\"sk-estimator sk-toggleable\"><input class=\"sk-toggleable__control sk-hidden--visually\" id=\"sk-estimator-id-1\" type=\"checkbox\" checked><label for=\"sk-estimator-id-1\" class=\"sk-toggleable__label sk-toggleable__label-arrow\">RandomForestRegressor</label><div class=\"sk-toggleable__content\"><pre>RandomForestRegressor(random_state=0)</pre></div></div></div></div></div>"
      ],
      "text/plain": [
       "RandomForestRegressor(random_state=0)"
      ]
     },
     "execution_count": 7,
     "metadata": {},
     "output_type": "execute_result"
    }
   ],
   "source": [
    "model2 = RandomForestRegressor(n_estimators=100, random_state=0)\n",
    "model1 = LinearRegression()\n",
    "model1.fit(X, y)\n",
    "model2.fit(X, y)"
   ]
  },
  {
   "cell_type": "code",
   "execution_count": 9,
   "metadata": {},
   "outputs": [
    {
     "data": {
      "text/html": [
       "<div>\n",
       "<style scoped>\n",
       "    .dataframe tbody tr th:only-of-type {\n",
       "        vertical-align: middle;\n",
       "    }\n",
       "\n",
       "    .dataframe tbody tr th {\n",
       "        vertical-align: top;\n",
       "    }\n",
       "\n",
       "    .dataframe thead th {\n",
       "        text-align: right;\n",
       "    }\n",
       "</style>\n",
       "<table border=\"1\" class=\"dataframe\">\n",
       "  <thead>\n",
       "    <tr style=\"text-align: right;\">\n",
       "      <th></th>\n",
       "      <th>TLR</th>\n",
       "      <th>RPC</th>\n",
       "      <th>GO</th>\n",
       "      <th>OI</th>\n",
       "      <th>PR</th>\n",
       "      <th>Weighted_Score</th>\n",
       "      <th>Predicted_Rank2</th>\n",
       "    </tr>\n",
       "  </thead>\n",
       "  <tbody>\n",
       "    <tr>\n",
       "      <th>0</th>\n",
       "      <td>30</td>\n",
       "      <td>50</td>\n",
       "      <td>30</td>\n",
       "      <td>70</td>\n",
       "      <td>10</td>\n",
       "      <td>38.0</td>\n",
       "      <td>125.21</td>\n",
       "    </tr>\n",
       "  </tbody>\n",
       "</table>\n",
       "</div>"
      ],
      "text/plain": [
       "   TLR  RPC  GO  OI  PR  Weighted_Score  Predicted_Rank2\n",
       "0   30   50  30  70  10            38.0           125.21"
      ]
     },
     "execution_count": 9,
     "metadata": {},
     "output_type": "execute_result"
    }
   ],
   "source": [
    "df1 = pd.read_csv('./nirf/2023.csv')\n",
    "scores = {'TLR': 30, 'RPC': 50, 'GO': 30, 'OI': 70, 'PR': 10}\n",
    "scores = pd.DataFrame(scores, index=[0])\n",
    "scores['Weighted_Score'] = (\n",
    "  scores['TLR'] * weightage['TLR'] +\n",
    "  scores['RPC'] * weightage['RPC'] +\n",
    "  scores['GO'] * weightage['GO'] +\n",
    "  scores['OI'] * weightage['OI'] +\n",
    "  scores['PR'] * weightage['PR']\n",
    ")\n",
    "# predictions = model1.predict(scores[['Weighted_Score']])\n",
    "# scores['Predicted_Rank1'] = predictions\n",
    "# scores['Predicted_Rank1_Round'] = scores['Predicted_Rank1'].apply(round)\n",
    "\n",
    "predictions = model2.predict(scores[['Weighted_Score']])\n",
    "scores['Predicted_Rank2'] = predictions\n",
    "# scores['Predicted_Rank2_Round'] = scores['Predicted_Rank2'].apply(round)\n",
    "# df1 = df1.sort_values(by='Predicted_Rank')\n",
    "# df1.reset_index(drop=True, inplace=True)\n",
    "scores\n",
    "# current_year_data = current_year_data.sort_values(by='Predicted_Rank')\n",
    "\n",
    "# rmse = np.sqrt(mean_squared_error(y, model2.predict(X)))\n",
    "# rmse"
   ]
  },
  {
   "cell_type": "code",
   "execution_count": 11,
   "metadata": {},
   "outputs": [],
   "source": [
    "df = pd.read_csv('./nirf/2016.csv')\n",
    "# df.to_dict(orient='records')[0]\n",
    "df = df.drop(columns=['TLR', 'RPC', 'GO', 'OI', 'PR', 'SS', 'FSR', 'FQE', 'FRU', 'PU', 'QP', 'IPR', 'FPPP', 'GPH', 'GUE', 'GMS', 'GPHD', 'RD', 'WD', 'ESCS', 'PCS'])"
   ]
  }
 ],
 "metadata": {
  "kernelspec": {
   "display_name": "Python 3",
   "language": "python",
   "name": "python3"
  },
  "language_info": {
   "codemirror_mode": {
    "name": "ipython",
    "version": 3
   },
   "file_extension": ".py",
   "mimetype": "text/x-python",
   "name": "python",
   "nbconvert_exporter": "python",
   "pygments_lexer": "ipython3",
   "version": "3.11.4"
  }
 },
 "nbformat": 4,
 "nbformat_minor": 2
}
