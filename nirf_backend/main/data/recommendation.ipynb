{
 "cells": [
  {
   "cell_type": "code",
   "execution_count": 1,
   "metadata": {},
   "outputs": [],
   "source": [
    "import pandas as pd"
   ]
  },
  {
   "cell_type": "code",
   "execution_count": 61,
   "metadata": {},
   "outputs": [
    {
     "data": {
      "text/plain": [
       "['Perception',\n",
       " 'Percentage of Students from other States/Countries',\n",
       " 'Percentage of Women',\n",
       " 'Economically and Socially Challenged Students',\n",
       " 'Facilities for Physically Challenged Students',\n",
       " 'Combined metric for Quality of Publications',\n",
       " 'Combined metric for Publications',\n",
       " 'Patents: Published and Granted',\n",
       " 'Footprint of Projects and Professional Practice']"
      ]
     },
     "execution_count": 61,
     "metadata": {},
     "output_type": "execute_result"
    }
   ],
   "source": [
    "years = [2016, 2017, 2018, 2019, 2020, 2021, 2022, 2023]\n",
    "rank = 20\n",
    "df1 = pd.read_csv('./nirf/2023.csv')\n",
    "college = \"National Institute Of Technology, Raipur\"\n",
    "comp_college = df1[df1['Rank'] == rank].to_dict(orient='records')[0]['Name']\n",
    "type_required = ['SS', 'FSR', 'FQE', 'FRU', 'PU', 'QP', 'IPR', 'FPPP', 'GPH', 'GUE', 'GMS', 'GPHD', 'RD', 'WD', 'ESCS', 'PCS', 'PR']\n",
    "\n",
    "data1 = {type: [] for type in type_required}\n",
    "data2 = {type: [] for type in type_required}\n",
    "\n",
    "avg_changes = {'SS': [0, 0], 'FSR': [0, 0], 'FQE': [0, 0], 'FRU': [0, 0], 'PU': [0, 0], 'QP': [0, 0], 'IPR': [0, 0], 'FPPP': [0, 0], 'GPH': [0, 0], 'GUE': [0, 0], 'GMS': [0, 0], 'GPHD': [0, 0], 'RD': [0, 0], 'WD': [0, 0], 'ESCS': [0, 0], 'PCS': [0, 0], 'PR': [0, 0]}\n",
    "\n",
    "for y in years:\n",
    "  df = pd.read_csv(f'./nirf/{y}.csv')\n",
    "  df['Name'] = df['Name'].str.upper()\n",
    "  df['Name'] = df['Name'].str.replace(\",\", \"\")\n",
    "  college = college.upper()\n",
    "  college = college.replace(\",\", \"\")\n",
    "  \n",
    "  comp_college = comp_college.upper()\n",
    "  comp_college = comp_college.replace(\",\", \"\")\n",
    "\n",
    "  df_dict1 = df[df['Name'] == college].to_dict(orient='records')\n",
    "  df_dict2 = df[df['Rank'] == rank].to_dict(orient='records')\n",
    "\n",
    "  flag1 = 0\n",
    "  flag2 = 0\n",
    "  if len(df_dict1) == 0:\n",
    "    flag1 = 1\n",
    "  \n",
    "  if not flag1:\n",
    "    df_dict1 = df_dict1[0]\n",
    "\n",
    "  if len(df_dict2) == 0:\n",
    "    flag2 = 1\n",
    "  \n",
    "  if not flag2:\n",
    "    df_dict2 = df_dict2[0]\n",
    "\n",
    "  for type in type_required:\n",
    "    if not flag1:\n",
    "      data1[type].append(df_dict1[type])\n",
    "    else:\n",
    "      data1[type].append(0)\n",
    "\n",
    "  # for type in type_required:\n",
    "  #   if not flag2:\n",
    "  #     tmp_sum = avg_changes[type][0] * avg_changes[type][1]\n",
    "  #     tmp_sum += df_dict2[type]\n",
    "  #     tmp_avg = ((tmp_sum) / (avg_changes[type][1] + 1))\n",
    "  #     avg_changes[type][1] += 1\n",
    "  #     avg_changes[type][0] = tmp_avg\n",
    "\n",
    "  for type in type_required:\n",
    "    if not flag2:\n",
    "      data2[type].append(df_dict2[type])\n",
    "    else:\n",
    "      data2[type].append(0)\n",
    "\n",
    "\n",
    "response = []\n",
    "\n",
    "ff = {\n",
    "  'PR': 'Perception',\n",
    "  'QP': 'Combined metric for Quality of Publications',\n",
    "  'GPH': 'Combined metric for Placement and Higher Studies',\n",
    "  'PU': 'Combined metric for Publications',\n",
    "  'FRU': 'Financial Resources and their Utilisation',\n",
    "  'FSR': 'Faculty-student ratio with emphasis on permanent faculty',\n",
    "  'RD': 'Percentage of Students from other States/Countries',\n",
    "  'WD': 'Percentage of Women',\n",
    "  'GMS': 'Median Salary',\n",
    "  'FQE': 'Combined metric for Faculty with PhD & Experience',\n",
    "  'SS': 'Student Strength including Doctoral Students',\n",
    "  'GPHD': 'Metric for Number of Ph.D. Students Graduated',\n",
    "  'PCS': 'Facilities for Physically Challenged Students',\n",
    "  'ESCS': 'Economically and Socially Challenged Students',\n",
    "  'IPR': 'Patents: Published and Granted',\n",
    "  'GUE': 'Metric for University Examinations',\n",
    "  'FPPP': 'Footprint of Projects and Professional Practice'\n",
    "}\n",
    "\n",
    "college1_df = pd.DataFrame(data1)\n",
    "college2_df = pd.DataFrame(data2)\n",
    "college1_avg = college1_df.mean()\n",
    "college2_avg = college2_df.mean()\n",
    "\n",
    "differences = college1_avg - college2_avg\n",
    "properties_to_improve = differences[differences < 0]\n",
    "properties_to_improve = properties_to_improve.sort_values()\n",
    "\n",
    "for property_name, diff in properties_to_improve.items():\n",
    "  diff = abs(diff)\n",
    "  response.append(f'{ff[property_name]}')\n",
    "\n",
    "response"
   ]
  },
  {
   "cell_type": "code",
   "execution_count": null,
   "metadata": {},
   "outputs": [],
   "source": [
    "df = pd.read_csv('./nirf/2023.csv')\n",
    "df[df['Name'] == 'National Institute of Technology, Raipur'].to_dict(orient='records')[0]"
   ]
  }
 ],
 "metadata": {
  "kernelspec": {
   "display_name": "myenv",
   "language": "python",
   "name": "python3"
  },
  "language_info": {
   "codemirror_mode": {
    "name": "ipython",
    "version": 3
   },
   "file_extension": ".py",
   "mimetype": "text/x-python",
   "name": "python",
   "nbconvert_exporter": "python",
   "pygments_lexer": "ipython3",
   "version": "3.11.4"
  }
 },
 "nbformat": 4,
 "nbformat_minor": 2
}
