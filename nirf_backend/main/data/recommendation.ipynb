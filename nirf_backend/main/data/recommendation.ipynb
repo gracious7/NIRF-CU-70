{
 "cells": [
  {
   "cell_type": "code",
   "execution_count": 16,
   "metadata": {},
   "outputs": [],
   "source": [
    "import pandas as pd\n",
    "from sklearn.ensemble import RandomForestRegressor"
   ]
  },
  {
   "cell_type": "code",
   "execution_count": 18,
   "metadata": {},
   "outputs": [
    {
     "name": "stdout",
     "output_type": "stream",
     "text": [
      "   Feature  Importance\n",
      "0       PR         1.0\n",
      "9      GPH         0.0\n",
      "15    ESCS         0.0\n",
      "14      WD         0.0\n",
      "13      RD         0.0\n",
      "12    GPHD         0.0\n",
      "11     GMS         0.0\n",
      "10     GUE         0.0\n",
      "8     FPPP         0.0\n",
      "1       SS         0.0\n",
      "7      IPR         0.0\n",
      "6       QP         0.0\n",
      "5       PU         0.0\n",
      "4      FRU         0.0\n",
      "3      FQE         0.0\n",
      "2      FSR         0.0\n",
      "16     PCS         0.0\n"
     ]
    }
   ],
   "source": [
    "df = pd.read_csv('./nirf/2023.csv')\n",
    "\n",
    "x = df.drop(['Institute ID', 'Rank', 'Name', 'City', 'State', 'Score', 'TLR', 'RPC', 'GO', 'OI'], axis=1)\n",
    "y = df['Rank']\n",
    "\n",
    "model = RandomForestRegressor(random_state=42)\n",
    "model.fit(x, y)\n",
    "\n",
    "feature_importances = model.feature_importances_\n",
    "\n",
    "feature_importance_df = pd.DataFrame({'Feature': x.columns, 'Importance': feature_importances})\n",
    "feature_importance_df = feature_importance_df.sort_values(by='Importance', ascending=False)\n",
    "\n",
    "print(feature_importance_df)"
   ]
  },
  {
   "cell_type": "code",
   "execution_count": null,
   "metadata": {},
   "outputs": [],
   "source": [
    "df = pd.read_csv('./nirf/2023.csv')\n",
    "df[df['Name'] == 'National Institute of Technology, Raipur'].to_dict(orient='records')[0]"
   ]
  }
 ],
 "metadata": {
  "kernelspec": {
   "display_name": "myenv",
   "language": "python",
   "name": "python3"
  },
  "language_info": {
   "codemirror_mode": {
    "name": "ipython",
    "version": 3
   },
   "file_extension": ".py",
   "mimetype": "text/x-python",
   "name": "python",
   "nbconvert_exporter": "python",
   "pygments_lexer": "ipython3",
   "version": "3.11.4"
  }
 },
 "nbformat": 4,
 "nbformat_minor": 2
}
